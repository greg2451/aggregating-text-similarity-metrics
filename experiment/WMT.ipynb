{
 "cells": [
  {
   "cell_type": "code",
   "execution_count": null,
   "metadata": {
    "collapsed": true,
    "pycharm": {
     "is_executing": true
    }
   },
   "outputs": [],
   "source": [
    "from metrics import load_all_metrics\n",
    "from benchmark_datasets import SimilarityEvaluationDataset\n",
    "import numpy as np\n",
    "import pandas as pd\n",
    "\n",
    "dataset = SimilarityEvaluationDataset.load_wmt_2016()\n",
    "metrics = load_all_metrics()\n",
    "scores = np.zeros((len(metrics), len(dataset)))\n",
    "for index, metric in enumerate(metrics.values()):\n",
    "    scores[index] = metric(dataset.references, dataset.candidates)\n",
    "\n",
    "results = pd.DataFrame(scores.T, columns=list(metrics.keys()))\n",
    "results[\"human_scores\"] = dataset.human_scores\n",
    "results.to_csv(\"results2.csv\", index=False)\n",
    "\n",
    "# Pearson correlation coefficient\n",
    "results.corr(method=\"pearson\")\n",
    "\n",
    "# Spearman correlation coefficient\n",
    "results.corr(method=\"spearman\")\n",
    "\n",
    "# Kendall's tau\n",
    "results.corr(method=\"kendall\")"
   ]
  }
 ],
 "metadata": {
  "kernelspec": {
   "display_name": "Python 3",
   "language": "python",
   "name": "python3"
  },
  "language_info": {
   "codemirror_mode": {
    "name": "ipython",
    "version": 2
   },
   "file_extension": ".py",
   "mimetype": "text/x-python",
   "name": "python",
   "nbconvert_exporter": "python",
   "pygments_lexer": "ipython2",
   "version": "2.7.6"
  }
 },
 "nbformat": 4,
 "nbformat_minor": 0
}
