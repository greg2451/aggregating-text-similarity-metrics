{
 "cells": [
  {
   "cell_type": "code",
   "execution_count": null,
   "metadata": {
    "collapsed": true,
    "pycharm": {
     "is_executing": true
    }
   },
   "outputs": [],
   "source": [
    "import os\n",
    "\n",
    "from metrics import load_all_metrics\n",
    "from benchmark_datasets import get_wmt_data\n",
    "import pandas as pd\n",
    "from datetime import datetime"
   ]
  },
  {
   "cell_type": "code",
   "execution_count": null,
   "outputs": [],
   "source": [
    "# Create result dir\n",
    "now = str(datetime.now())[:19]\n",
    "os.makedirs(f\"results/run_{now}\", exist_ok=True)"
   ],
   "metadata": {
    "collapsed": false
   }
  },
  {
   "cell_type": "code",
   "execution_count": null,
   "outputs": [],
   "source": [
    "# Load dataset and metrics\n",
    "dataset = get_wmt_data()\n",
    "metrics = load_all_metrics()\n",
    "results = pd.DataFrame()\n",
    "results[\"human_scores\"] = dataset.human_scores"
   ],
   "metadata": {
    "collapsed": false
   }
  },
  {
   "cell_type": "code",
   "execution_count": null,
   "outputs": [],
   "source": [
    "# Loop over metrics\n",
    "for name, metric in metrics.items():\n",
    "    scores = metric(dataset.references, dataset.candidates)\n",
    "    for sub_metric_name, sub_score in scores.items():\n",
    "        results[sub_metric_name] = sub_score\n",
    "\n",
    "    # Save checkpoint, this is very useful in case of crash\n",
    "    results.to_csv(f\"results/run_{now}/checkpoint.csv\", index=False)"
   ],
   "metadata": {
    "collapsed": false
   }
  },
  {
   "cell_type": "code",
   "execution_count": null,
   "outputs": [],
   "source": [
    "# Save final result and delete checkpoints\n",
    "columns_in_right_order = [\"human_scores\"] + [\n",
    "    column for column in sorted(results.columns) if column != \"human_scores\"\n",
    "]\n",
    "results = results.reindex(columns_in_right_order, axis=1)\n",
    "results.to_csv(f\"results/run_{now}/final.csv\", index=False)\n",
    "os.remove(f\"results/run_{now}/checkpoint.csv\")"
   ],
   "metadata": {
    "collapsed": false
   }
  },
  {
   "cell_type": "code",
   "execution_count": null,
   "outputs": [],
   "source": [
    "# Compute correlations and save them\n",
    "os.makedirs(f\"results/run_{now}/correlations\", exist_ok=True)\n",
    "for correlation_type in [\"pearson\", \"spearman\", \"kendall\"]:\n",
    "    results.corr(method=correlation_type).to_csv(\n",
    "        f\"results/run_{now}/correlations/{correlation_type}.csv\"\n",
    "    )"
   ],
   "metadata": {
    "collapsed": false
   }
  }
 ],
 "metadata": {
  "kernelspec": {
   "display_name": "Python 3",
   "language": "python",
   "name": "python3"
  },
  "language_info": {
   "codemirror_mode": {
    "name": "ipython",
    "version": 2
   },
   "file_extension": ".py",
   "mimetype": "text/x-python",
   "name": "python",
   "nbconvert_exporter": "python",
   "pygments_lexer": "ipython2",
   "version": "2.7.6"
  }
 },
 "nbformat": 4,
 "nbformat_minor": 0
}
